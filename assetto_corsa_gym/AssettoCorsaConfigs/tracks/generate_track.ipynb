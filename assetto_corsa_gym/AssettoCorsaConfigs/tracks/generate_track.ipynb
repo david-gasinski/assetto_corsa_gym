{
 "cells": [
  {
   "cell_type": "code",
   "execution_count": 49,
   "metadata": {},
   "outputs": [],
   "source": [
    "%matplotlib tk\n",
    "\n",
    "import matplotlib.pyplot as plt\n",
    "import sys\n",
    "import os\n",
    "import numpy as np\n",
    "import pandas as pd\n",
    "import glob as glob\n",
    "import time\n",
    "from tqdm import tqdm\n",
    "import pickle\n",
    "from omegaconf import OmegaConf\n",
    "\n",
    "def read_pickle(file, verbose=False):\n",
    "    if verbose: print('loading from..', file)\n",
    "    with open(file, 'rb') as f:\n",
    "        return pickle.load(f)\n",
    "\n",
    "\n",
    "# add custom paths\n",
    "sys.path.extend([os.path.abspath('../../../assetto_corsa_gym')])\n",
    "import AssettoCorsaEnv.assettoCorsa as assettoCorsa\n",
    "\n",
    "# Configure the logging system\n",
    "import logging\n",
    "logger = logging.getLogger(__name__)\n",
    "logging.basicConfig(\n",
    "    level=logging.INFO,  # Set the logging level (DEBUG, INFO, WARNING, ERROR, CRITICAL)\n",
    "    format='%(asctime)s - %(name)s - %(levelname)s - %(message)s',  # Format of the log messages\n",
    "    datefmt='%Y-%m-%d %H:%M:%S',  # Format of the timestamp\n",
    ")\n"
   ]
  },
  {
   "cell_type": "code",
   "execution_count": 50,
   "metadata": {},
   "outputs": [],
   "source": [
    "sys.path.append(os.path.abspath(os.path.join('../..')))\n",
    "import AssettoCorsaEnv.assettoCorsa as assettoCorsa\n",
    "from AssettoCorsaEnv.curvature import curvature_splines"
   ]
  },
  {
   "cell_type": "code",
   "execution_count": 51,
   "metadata": {},
   "outputs": [
    {
     "name": "stderr",
     "output_type": "stream",
     "text": [
      "WARNING:AssettoCorsaEnv.ac_client:Controls will be executed locally and not by the server\n"
     ]
    },
    {
     "name": "stdout",
     "output_type": "stream",
     "text": [
      "Failed to open vJoy device: [Errno 2] No such file or directory: '/dev/input/event16'\n"
     ]
    }
   ],
   "source": [
    "config = OmegaConf.load(\"../../../config.yml\")\n",
    "client = assettoCorsa.make_client_only(config.AssettoCorsa)"
   ]
  },
  {
   "cell_type": "code",
   "execution_count": 52,
   "metadata": {},
   "outputs": [],
   "source": [
    "tracks_path = \".\""
   ]
  },
  {
   "cell_type": "markdown",
   "metadata": {},
   "source": [
    "# Get track's bounds and racing line from AC"
   ]
  },
  {
   "cell_type": "code",
   "execution_count": 53,
   "metadata": {},
   "outputs": [
    {
     "name": "stderr",
     "output_type": "stream",
     "text": [
      "INFO:AssettoCorsaEnv.ac_client:Saving track to ./ks_zandvoort.csv\n",
      "INFO:AssettoCorsaEnv.ac_client:Saving racing line ./ks_zandvoort-racing_line.csv\n"
     ]
    },
    {
     "name": "stdout",
     "output_type": "stream",
     "text": [
      "{'LastSplits': [0, 0], 'CAR_WHEEL_R': [0.2750000059604645, 0.2750000059604645, 0.2849999964237213, 0.2849999964237213], 'isCarInPitlane': 0, 'isCarInPit': 0, 'penaltiesEnabled': 0, 'CarName': 'tatuusfa1', 'TrackName': 'ks_zandvoort', 'TrackConfiguration': '', 'WindDirection': 359, 'CAR_WHEELBASE': 2.6496553896655883, 'WindSpeed': 0, 'autoShifterOn': 0, 'CAR_TRACK': 1.4594446404100356, 'TrackLength': 4189.69091796875, 'TrackFullName': 'ks_zandvoort'}\n"
     ]
    }
   ],
   "source": [
    "#track_file_name, track_file, ref_line_file = env.export_track_and_racing_line(output_path=tracks_path)\n",
    "\n",
    "track_file_name, track_file, ref_line_file, static_info = client.export_track_and_racing_line(output_path=tracks_path)"
   ]
  },
  {
   "cell_type": "code",
   "execution_count": 54,
   "metadata": {},
   "outputs": [
    {
     "name": "stdout",
     "output_type": "stream",
     "text": [
      "TrackFullName: ks_zandvoort  TrackLength: 4189.69091796875   TrackName: ks_zandvoort  TrackConfiguration: \n"
     ]
    },
    {
     "data": {
      "text/plain": [
       "{'LastSplits': [0, 0],\n",
       " 'CAR_WHEEL_R': [0.2750000059604645,\n",
       "  0.2750000059604645,\n",
       "  0.2849999964237213,\n",
       "  0.2849999964237213],\n",
       " 'isCarInPitlane': 0,\n",
       " 'isCarInPit': 0,\n",
       " 'penaltiesEnabled': 0,\n",
       " 'CarName': 'tatuusfa1',\n",
       " 'TrackName': 'ks_zandvoort',\n",
       " 'TrackConfiguration': '',\n",
       " 'WindDirection': 359,\n",
       " 'CAR_WHEELBASE': 2.6496553896655883,\n",
       " 'WindSpeed': 0,\n",
       " 'autoShifterOn': 0,\n",
       " 'CAR_TRACK': 1.4594446404100356,\n",
       " 'TrackLength': 4189.69091796875,\n",
       " 'TrackFullName': 'ks_zandvoort'}"
      ]
     },
     "execution_count": 54,
     "metadata": {},
     "output_type": "execute_result"
    }
   ],
   "source": [
    "print(f'TrackFullName: {static_info[\"TrackFullName\"]}  TrackLength: {static_info[\"TrackLength\"]}   TrackName: {static_info[\"TrackName\"]}  TrackConfiguration: {static_info[\"TrackConfiguration\"]}')\n",
    "static_info"
   ]
  },
  {
   "cell_type": "markdown",
   "metadata": {},
   "source": [
    "# Check racing line"
   ]
  },
  {
   "cell_type": "code",
   "execution_count": 55,
   "metadata": {},
   "outputs": [],
   "source": [
    "df = pd.read_csv(ref_line_file)\n",
    "file_channels = [\"pos_x\", \"pos_y\"]\n",
    "\n",
    "ts = df[file_channels].values"
   ]
  },
  {
   "cell_type": "code",
   "execution_count": 56,
   "metadata": {},
   "outputs": [],
   "source": [
    "#plt.scatter(ts[:,0],  ts[:,1], s=0.1, color=\"gray\")\n",
    "#plt.scatter(ts[0,0],  ts[0,1], s=0.5, color=\"red\")"
   ]
  },
  {
   "cell_type": "code",
   "execution_count": 57,
   "metadata": {},
   "outputs": [
    {
     "data": {
      "text/plain": [
       "'ks_zandvoort'"
      ]
     },
     "execution_count": 57,
     "metadata": {},
     "output_type": "execute_result"
    }
   ],
   "source": [
    "track_file_name"
   ]
  },
  {
   "cell_type": "markdown",
   "metadata": {},
   "source": [
    "# check\n",
    "\n",
    "- adapt this to the track\n",
    "- curvature should be close to zero at the end and beginning of the track (main straight)"
   ]
  },
  {
   "cell_type": "code",
   "execution_count": 58,
   "metadata": {},
   "outputs": [
    {
     "data": {
      "text/plain": [
       "[<matplotlib.lines.Line2D at 0x24a581dab20>]"
      ]
     },
     "execution_count": 58,
     "metadata": {},
     "output_type": "execute_result"
    }
   ],
   "source": [
    "\n",
    "if track_file_name == \"ks_red_bull_ring-layout_gp\":\n",
    "    curvature = curvature_splines( ts[:,0],  ts[:,1] , error=0.1)\n",
    "elif track_file_name == \"indianapolis_sp\":\n",
    "    curvature = curvature_splines( ts[:,0],  ts[:,1] , error=.25)\n",
    "elif track_file_name == \"imola\":\n",
    "    curvature = curvature_splines( ts[:,0],  ts[:,1] , error=1)\n",
    "else:\n",
    "    curvature = curvature_splines( ts[:,0],  ts[:,1] , error=1.)\n",
    "    curvature[2934:] = 0. # force zero in the last part\n",
    "\n",
    "curvature = curvature.reshape(-1,1)\n",
    "plt.plot(curvature)"
   ]
  },
  {
   "cell_type": "markdown",
   "metadata": {},
   "source": [
    "# Create occupancy grip map"
   ]
  },
  {
   "cell_type": "code",
   "execution_count": 59,
   "metadata": {},
   "outputs": [
    {
     "data": {
      "text/plain": [
       "'.\\\\ks_zandvoort.pkl'"
      ]
     },
     "execution_count": 59,
     "metadata": {},
     "output_type": "execute_result"
    }
   ],
   "source": [
    "track_grid_file = tracks_path + os.sep + f\"{track_file_name}.pkl\"\n",
    "track_grid_file"
   ]
  },
  {
   "cell_type": "code",
   "execution_count": 60,
   "metadata": {},
   "outputs": [
    {
     "name": "stderr",
     "output_type": "stream",
     "text": [
      "INFO:AssettoCorsaEnv.track:Track loaded from: ./ks_zandvoort.csv Found 2710 segments downsampled by 10= 271 segments\n"
     ]
    }
   ],
   "source": [
    "from AssettoCorsaEnv.track import Track, in_quadrilateral\n",
    "\n",
    "track = Track(track_file)"
   ]
  },
  {
   "cell_type": "code",
   "execution_count": 61,
   "metadata": {},
   "outputs": [
    {
     "data": {
      "text/plain": [
       "<matplotlib.collections.PathCollection at 0x24a5697f7f0>"
      ]
     },
     "execution_count": 61,
     "metadata": {},
     "output_type": "execute_result"
    }
   ],
   "source": [
    "plt.plot(track.left_border_x, track.left_border_y)\n",
    "plt.plot(track.right_border_x, track.right_border_y)\n",
    "plt.scatter(track.right_border_x, track.right_border_y, color='green', s=0.1)\n",
    "plt.scatter(track.left_border_x[0], track.left_border_y[0], color='red')\n",
    "\n",
    "# racing line\n",
    "plt.scatter(ts[:,0],  ts[:,1], s=0.1, color=\"gray\")\n",
    "plt.scatter(ts[0,0],  ts[0,1], s=0.5, color=\"red\")"
   ]
  },
  {
   "cell_type": "code",
   "execution_count": 62,
   "metadata": {},
   "outputs": [
    {
     "data": {
      "text/plain": [
       "(-451.6979240852052, -571.255285030138, 397.6443523702942, 256.35558562188294)"
      ]
     },
     "execution_count": 62,
     "metadata": {},
     "output_type": "execute_result"
    }
   ],
   "source": [
    "# add 1 m just in case\n",
    "min_x = min( np.min(track.right_border_x), np.min(track.left_border_x) ) - 1\n",
    "min_y = min( np.min(track.right_border_y), np.min(track.left_border_y) ) - 1\n",
    "\n",
    "max_x = max( np.max(track.right_border_x), np.max(track.left_border_x) ) + 1\n",
    "max_y = max( np.max(track.right_border_y), np.max(track.left_border_y) ) + 1\n",
    "\n",
    "min_x, min_y, max_x, max_y\n"
   ]
  },
  {
   "cell_type": "code",
   "execution_count": 63,
   "metadata": {},
   "outputs": [],
   "source": [
    "##\n",
    "## quick test hardcode a small grid\n",
    "##\n",
    "# max_x = min_x + 200\n",
    "# max_y = min_y + 220\n",
    "# max_x, max_y"
   ]
  },
  {
   "cell_type": "code",
   "execution_count": 64,
   "metadata": {},
   "outputs": [],
   "source": [
    "cell_size = .1 # m"
   ]
  },
  {
   "cell_type": "code",
   "execution_count": 65,
   "metadata": {},
   "outputs": [
    {
     "data": {
      "text/plain": [
       "((8494,), (8277,))"
      ]
     },
     "execution_count": 65,
     "metadata": {},
     "output_type": "execute_result"
    }
   ],
   "source": [
    "x_range = np.arange(min_x, max_x, cell_size)\n",
    "y_range = np.arange(min_y, max_y, cell_size)\n",
    "\n",
    "x_range.shape, y_range.shape\n"
   ]
  },
  {
   "cell_type": "code",
   "execution_count": 66,
   "metadata": {},
   "outputs": [
    {
     "data": {
      "text/plain": [
       "((8277, 8494), (8277, 8494))"
      ]
     },
     "execution_count": 66,
     "metadata": {},
     "output_type": "execute_result"
    }
   ],
   "source": [
    "xx, yy = np.meshgrid(x_range, y_range)\n",
    "xx.shape, yy.shape\n"
   ]
  },
  {
   "cell_type": "code",
   "execution_count": 67,
   "metadata": {},
   "outputs": [],
   "source": [
    "points = np.vstack([xx.ravel(), yy.ravel()]).T  \n"
   ]
  },
  {
   "cell_type": "code",
   "execution_count": 68,
   "metadata": {},
   "outputs": [
    {
     "data": {
      "text/plain": [
       "(271,)"
      ]
     },
     "execution_count": 68,
     "metadata": {},
     "output_type": "execute_result"
    }
   ],
   "source": [
    "track.left_border_y.shape"
   ]
  },
  {
   "cell_type": "code",
   "execution_count": 69,
   "metadata": {},
   "outputs": [],
   "source": [
    "show_segments = -1\n",
    "for n in range(len(track.right_border_x[:show_segments]))[::]:\n",
    "    plt.plot([track.left_border_x[n], track.right_border_x[n]],\n",
    "             [track.left_border_y[n], track.right_border_y[n]], color='blue')"
   ]
  },
  {
   "cell_type": "code",
   "execution_count": 70,
   "metadata": {},
   "outputs": [
    {
     "data": {
      "text/plain": [
       "270"
      ]
     },
     "execution_count": 70,
     "metadata": {},
     "output_type": "execute_result"
    }
   ],
   "source": [
    "n_segments = track.num_segments - 1\n",
    "n_segments"
   ]
  },
  {
   "cell_type": "code",
   "execution_count": 71,
   "metadata": {},
   "outputs": [
    {
     "name": "stderr",
     "output_type": "stream",
     "text": [
      "100%|██████████| 270/270 [11:39<00:00,  2.59s/it]\n"
     ]
    }
   ],
   "source": [
    "found_base = np.zeros(points.shape[0], dtype='bool')\n",
    "\n",
    "def calc_points_inside_quad():\n",
    "    return found\n",
    "\n",
    "for segment in tqdm(range(n_segments)):\n",
    "    corners = np.array( [track.lr_track[0+segment*2:4+segment*2]] )\n",
    "    found = in_quadrilateral(corners, points)\n",
    "    found_base = found_base + found\n",
    "\n",
    "# Add\n",
    "corners = np.concatenate([ [track.lr_track[-2:]],  [track.lr_track[:2]]] , axis=1)\n",
    "found = in_quadrilateral(corners, points)\n",
    "found_base = found_base + found\n",
    "\n",
    "found_base = found_base.astype('ubyte')"
   ]
  },
  {
   "cell_type": "code",
   "execution_count": 72,
   "metadata": {},
   "outputs": [],
   "source": [
    "found_base = found_base.astype('ubyte')"
   ]
  },
  {
   "cell_type": "code",
   "execution_count": 73,
   "metadata": {},
   "outputs": [
    {
     "data": {
      "text/plain": [
       "(-607.9328202894656, 2851.23489620426, -611.5358285627391, 296.636129154484)"
      ]
     },
     "execution_count": 73,
     "metadata": {},
     "output_type": "execute_result"
    }
   ],
   "source": [
    "# # plot the track\n",
    "plt.plot(track.right_border_x, track.right_border_y)\n",
    "plt.plot(track.left_border_x, track.left_border_y)\n",
    "#plt.plot(track.middle_x, track.middle_y)\n",
    "\n",
    "#plt.scatter(corners[0,:,0], corners[0,:,1],s=0.02)\n",
    "#plt.scatter(points[:,0], points[:,1], s=0.01)\n",
    "plt.scatter(points[found_base == 1][:,0], points[found_base == 1][:,1], s=0.02)\n",
    "plt.axis(\"equal\")"
   ]
  },
  {
   "cell_type": "markdown",
   "metadata": {},
   "source": [
    "# export\n"
   ]
  },
  {
   "cell_type": "code",
   "execution_count": 74,
   "metadata": {},
   "outputs": [
    {
     "data": {
      "text/plain": [
       "0.1"
      ]
     },
     "execution_count": 74,
     "metadata": {},
     "output_type": "execute_result"
    }
   ],
   "source": [
    "cell_size"
   ]
  },
  {
   "cell_type": "code",
   "execution_count": 75,
   "metadata": {},
   "outputs": [
    {
     "name": "stdout",
     "output_type": "stream",
     "text": [
      "saved to ./ks_zandvoort_0.1m.pkl\n"
     ]
    }
   ],
   "source": [
    "import pickle\n",
    "track_map = {\"cell_size\": cell_size,\n",
    "        \"min_x\": min_x,\n",
    "        \"min_y\": min_y,\n",
    "        \"max_x\": max_x,\n",
    "        \"max_y\": max_y,\n",
    "        \"grid\": found_base.astype('ubyte')\n",
    "        }\n",
    "\n",
    "export_file = f\"{tracks_path}/{track_file_name}_{cell_size}m.pkl\"\n",
    "\n",
    "with open(export_file,'wb') as f:\n",
    "    pickle.dump(track_map, f)\n",
    "\n",
    "del track_map\n",
    "\n",
    "\n",
    "\n",
    "print(f\"saved to {export_file}\")"
   ]
  },
  {
   "cell_type": "code",
   "execution_count": null,
   "metadata": {},
   "outputs": [],
   "source": []
  },
  {
   "cell_type": "code",
   "execution_count": null,
   "metadata": {},
   "outputs": [],
   "source": []
  },
  {
   "cell_type": "code",
   "execution_count": null,
   "metadata": {},
   "outputs": [],
   "source": []
  },
  {
   "cell_type": "code",
   "execution_count": null,
   "metadata": {},
   "outputs": [],
   "source": []
  },
  {
   "cell_type": "code",
   "execution_count": null,
   "metadata": {},
   "outputs": [],
   "source": []
  },
  {
   "cell_type": "code",
   "execution_count": null,
   "metadata": {},
   "outputs": [],
   "source": []
  }
 ],
 "metadata": {
  "kernelspec": {
   "display_name": "venv",
   "language": "python",
   "name": "python3"
  },
  "language_info": {
   "codemirror_mode": {
    "name": "ipython",
    "version": 3
   },
   "file_extension": ".py",
   "mimetype": "text/x-python",
   "name": "python",
   "nbconvert_exporter": "python",
   "pygments_lexer": "ipython3",
   "version": "3.9.13"
  }
 },
 "nbformat": 4,
 "nbformat_minor": 4
}
